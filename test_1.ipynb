{
  "nbformat": 4,
  "nbformat_minor": 0,
  "metadata": {
    "colab": {
      "name": "test_1.ipynb",
      "provenance": [],
      "collapsed_sections": [
        "yLmT7PLNOgAJ"
      ],
      "mount_file_id": "1J2EWFLVfwRn5oUyXbbiipDON8An_y9_u",
      "authorship_tag": "ABX9TyMBNHgy9qq8fvTcqsXUZDMW",
      "include_colab_link": true
    },
    "kernelspec": {
      "name": "python3",
      "display_name": "Python 3"
    },
    "language_info": {
      "name": "python"
    }
  },
  "cells": [
    {
      "cell_type": "markdown",
      "metadata": {
        "id": "view-in-github",
        "colab_type": "text"
      },
      "source": [
        "<a href=\"https://colab.research.google.com/github/Viviancs/torch_exercise/blob/main/test_1.ipynb\" target=\"_parent\"><img src=\"https://colab.research.google.com/assets/colab-badge.svg\" alt=\"Open In Colab\"/></a>"
      ]
    },
    {
      "cell_type": "markdown",
      "metadata": {
        "id": "yLmT7PLNOgAJ"
      },
      "source": [
        "## 1.数据预处理"
      ]
    },
    {
      "cell_type": "code",
      "metadata": {
        "id": "1APWvv1DtTTl"
      },
      "source": [
        "import sys\n",
        "sys.path.append('/usr/local/lib/python3.7/site-packages/')"
      ],
      "execution_count": null,
      "outputs": []
    },
    {
      "cell_type": "code",
      "metadata": {
        "id": "SSNalqWXixiP"
      },
      "source": [
        "import torch\n",
        "print(torch.__version__)\n"
      ],
      "execution_count": null,
      "outputs": []
    },
    {
      "cell_type": "code",
      "metadata": {
        "id": "HrIKtnh8i-l0"
      },
      "source": [
        "import numpy as np\n",
        "import pandas as pd\n",
        "import matplotlib.pyplot as plt\n",
        "import torch\n",
        "from torch import nn\n",
        "from torch.utils.data import DataLoader,Dataset,TensorDataset"
      ],
      "execution_count": 2,
      "outputs": []
    },
    {
      "cell_type": "code",
      "metadata": {
        "id": "rB0vluQW3du9"
      },
      "source": [
        "import os\n",
        "os.chdir(\"./drive/MyDrive/pytorch_ex\")"
      ],
      "execution_count": 3,
      "outputs": []
    },
    {
      "cell_type": "code",
      "metadata": {
        "id": "qKd1Yd9FjqOX"
      },
      "source": [
        "dftrain_raw=pd.read_csv('./data/titanic/train.csv')\n",
        "dftest_raw=pd.read_csv('./data/titanic/test.csv')\n",
        "dftrain_raw.head((10))"
      ],
      "execution_count": null,
      "outputs": []
    },
    {
      "cell_type": "code",
      "metadata": {
        "id": "G5mU2kwn7J8k"
      },
      "source": [
        "ax=dftrain_raw['Survived'].value_counts().plot(kind='bar',figsize=(12,8),fontsize=15,rot=0)\n",
        "ax.set_ylabel('Counts',fontsize=15)\n",
        "ax.set_xlabel('Survived',fontsize=15)\n",
        "plt.show()"
      ],
      "execution_count": null,
      "outputs": []
    },
    {
      "cell_type": "code",
      "metadata": {
        "id": "YDjhCn4x9pdq"
      },
      "source": [
        "ax=dftrain_raw['Age'].plot(kind='hist',bins=20,figsize=(12,8),fontsize=15)\n",
        "ax.set_ylabel('Frequency',fontsize=15)\n",
        "ax.set_xlabel('Age',fontsize=15)\n",
        "plt.show()"
      ],
      "execution_count": null,
      "outputs": []
    },
    {
      "cell_type": "code",
      "metadata": {
        "id": "k8PtRQrw-ft5"
      },
      "source": [
        "ax=dftrain_raw.query('Survived==0')['Age'].plot(kind='density',figsize=(12,8),fontsize=15)\n",
        "dftrain_raw.query('Survived==1')['Age'].plot(kind='density',figsize=(12,8),fontsize=15)\n",
        "ax.set_ylabel('Density',fontsize=15)\n",
        "ax.set_xlabel('Age',fontsize=15)\n",
        "plt.show()"
      ],
      "execution_count": null,
      "outputs": []
    },
    {
      "cell_type": "code",
      "metadata": {
        "id": "BGIxiZqo9AqK"
      },
      "source": [
        "dfresult=pd.DataFrame()\n",
        "\n",
        "#Pclass one-hot编码\n",
        "dfPclass=pd.get_dummies(dftrain_raw['Pclass'])\n",
        "dfPclass.columns=['Pclass_'+str(x) for x in dfPclass.columns]\n",
        "dfresult=pd.concat([dfresult,dfPclass],axis=1)\n",
        "print(dfPclass)\n",
        "\n",
        "\n",
        "#Sex\n",
        "dfSex=pd.get_dummies(dftrain_raw['Sex'])\n",
        "dfresult=pd.concat([dfresult,dfSex],axis=1)\n",
        "\n",
        "#Age\n",
        "dfresult['Age']=dftrain_raw['Age'].fillna(0)\n",
        "dfresult['Age_null']=pd.isna(dftrain_raw['Age']).astype('int32')\n",
        "\n",
        "\n",
        "#sibsp #parch fare \n",
        "dfresult['SibSp']=dfftest_raw['SibSp']\n",
        "dfresult['Parch']=dfftest_raw['Parch']\n",
        "dfresult['Fare']=dfftest_raw['Fare']\n",
        "#cabin \n",
        "dfresult['Cabin']=dftrain_raw['Cabin'].fillna(0)\n",
        "dfresult['Cabin_null']=pd.isna(dftrain_raw['Cabin']).astype('int32')\n",
        "\n",
        "#embarked\n",
        "dfEmbarked=pd.get_dummies(dftrain_raw['Embarked'],dummy_na=True)\n",
        "dfEmbarked.columns=['Embark_'+str(x) for x in dfEmbarked.columns]\n",
        "dfresult=pd.concat([dfresult,dfEmbarked],axis=1)\n",
        "print(dfresult)"
      ],
      "execution_count": null,
      "outputs": []
    },
    {
      "cell_type": "code",
      "metadata": {
        "colab": {
          "base_uri": "https://localhost:8080/"
        },
        "id": "tkbrHBnN5zD6",
        "outputId": "24772273-a1fd-4b01-9810-d0afba873a8b"
      },
      "source": [
        "##数据预处理\n",
        "def preprocess(dfdata):\n",
        "  dfresult=pd.DataFrame()\n",
        "\n",
        "  #Pclass one-hot编码\n",
        "  dfPclass=pd.get_dummies(dfdata['Pclass'])\n",
        "  dfPclass.columns=['Pclass_'+str(x) for x in dfPclass.columns]\n",
        "  dfresult=pd.concat([dfresult,dfPclass],axis=1)\n",
        "\n",
        "  #Sex\n",
        "  dfSex=pd.get_dummies(dfdata['Sex'])\n",
        "  dfresult=pd.concat([dfresult,dfSex],axis=1)\n",
        "\n",
        "  #Age\n",
        "  dfresult['Age']=dfdata['Age'].fillna(0)\n",
        "  dfresult['Age_null']=pd.isna(dfdata['Age']).astype('int32')\n",
        "\n",
        "  #sibsp parch fare\n",
        "  dfresult['SibSp']=dfdata['SibSp']\n",
        "  dfresult['Parch']=dfdata['Parch']\n",
        "  dfresult['Fare']=dfdata['Fare']\n",
        "  #sibsp #parch fare \n",
        "  dfresult['SibSp']=dfdata['SibSp']\n",
        "  dfresult['Parch']=dfdata['Parch']\n",
        "  dfresult['Fare']=dfdata['Fare']\n",
        "  #cabin \n",
        "  dfresult['Cabin_null']=pd.isna(dfdata['Cabin']).astype('int32')\n",
        "\n",
        "  #embarked\n",
        "  dfEmbarked=pd.get_dummies(dfdata['Embarked'],dummy_na=True)\n",
        "  dfEmbarked.columns=['Embark_'+str(x) for x in dfEmbarked.columns]\n",
        "  dfresult=pd.concat([dfresult,dfEmbarked],axis=1)\n",
        "\n",
        "  return(dfresult)\n",
        "\n",
        "x_train=preprocess(dftrain_raw).values\n",
        "y_train=dftrain_raw[['Survived']].values\n",
        "\n",
        "x_test=preprocess(dftest_raw).values\n",
        "y_test=dftest_raw[['Survived']].values\n",
        "\n",
        "print('x_train.shape=',x_train.shape)\n",
        "print('x_test.shape=',x_test.shape)\n",
        "\n",
        "print('y_train.shape=',y_train.shape)\n",
        "print('y_test.shape=',y_test.shape)"
      ],
      "execution_count": 29,
      "outputs": [
        {
          "output_type": "stream",
          "text": [
            "x_train.shape= (712, 15)\n",
            "x_test.shape= (179, 15)\n",
            "y_train.shape= (712, 1)\n",
            "y_test.shape= (179, 1)\n"
          ],
          "name": "stdout"
        }
      ]
    },
    {
      "cell_type": "code",
      "metadata": {
        "id": "AAcTfB3qGt5z"
      },
      "source": [
        "d1_train=DataLoader(TensorDataset(torch.tensor(x_train).float(),torch.tensor(y_train).float()),shuffle=True,batch_size=8)\n",
        "d1_test=DataLoader(TensorDataset(torch.tensor(x_test).float(),torch.tensor(y_test).float()),shuffle=False,batch_size=8)\n"
      ],
      "execution_count": 30,
      "outputs": []
    },
    {
      "cell_type": "code",
      "metadata": {
        "id": "yHWSbGUjNkki"
      },
      "source": [
        "for features,labels in d1_train:\n",
        "  print(features,labels)"
      ],
      "execution_count": null,
      "outputs": []
    },
    {
      "cell_type": "markdown",
      "metadata": {
        "id": "1aOygzDkOYIX"
      },
      "source": [
        "## 2.定义模型"
      ]
    },
    {
      "cell_type": "code",
      "metadata": {
        "colab": {
          "base_uri": "https://localhost:8080/"
        },
        "id": "vzThgD-hN3EV",
        "outputId": "7840067f-cbd2-4f79-be7a-118acb30f0c4"
      },
      "source": [
        "def create_net():\n",
        "  net=nn.Sequential()\n",
        "  net.add_module('linear1',nn.Linear(15,20))\n",
        "  net.add_module('relu1',nn.ReLU())\n",
        "  net.add_module('linear2',nn.Linear(20,15))\n",
        "  net.add_module('relu2',nn.ReLU())\n",
        "  net.add_module('linear3',nn.Linear(15,1))\n",
        "  net.add_module('sigmoid',nn.Sigmoid())\n",
        "  return net\n",
        "\n",
        "net=create_net()\n",
        "print(net)"
      ],
      "execution_count": 49,
      "outputs": [
        {
          "output_type": "stream",
          "text": [
            "Sequential(\n",
            "  (linear1): Linear(in_features=15, out_features=20, bias=True)\n",
            "  (relu1): ReLU()\n",
            "  (linear2): Linear(in_features=20, out_features=15, bias=True)\n",
            "  (relu2): ReLU()\n",
            "  (linear3): Linear(in_features=15, out_features=1, bias=True)\n",
            "  (sigmoid): Sigmoid()\n",
            ")\n"
          ],
          "name": "stdout"
        }
      ]
    },
    {
      "cell_type": "code",
      "metadata": {
        "colab": {
          "base_uri": "https://localhost:8080/"
        },
        "id": "Jg_GA67iPjFJ",
        "outputId": "e094c736-93f9-456d-ca9e-de08f50f4c01"
      },
      "source": [
        "from torchkeras import summary\n",
        "summary(net,input_shape=(15,))"
      ],
      "execution_count": 50,
      "outputs": [
        {
          "output_type": "stream",
          "text": [
            "----------------------------------------------------------------\n",
            "        Layer (type)               Output Shape         Param #\n",
            "================================================================\n",
            "            Linear-1                   [-1, 20]             320\n",
            "              ReLU-2                   [-1, 20]               0\n",
            "            Linear-3                   [-1, 15]             315\n",
            "              ReLU-4                   [-1, 15]               0\n",
            "            Linear-5                    [-1, 1]              16\n",
            "           Sigmoid-6                    [-1, 1]               0\n",
            "================================================================\n",
            "Total params: 651\n",
            "Trainable params: 651\n",
            "Non-trainable params: 0\n",
            "----------------------------------------------------------------\n",
            "Input size (MB): 0.000057\n",
            "Forward/backward pass size (MB): 0.000549\n",
            "Params size (MB): 0.002483\n",
            "Estimated Total Size (MB): 0.003090\n",
            "----------------------------------------------------------------\n"
          ],
          "name": "stdout"
        }
      ]
    },
    {
      "cell_type": "markdown",
      "metadata": {
        "id": "NkOLgMX2RJCM"
      },
      "source": [
        "## 3.训练模型\n"
      ]
    },
    {
      "cell_type": "code",
      "metadata": {
        "id": "iMLGfZzeRLUM"
      },
      "source": [
        ""
      ],
      "execution_count": null,
      "outputs": []
    }
  ]
}